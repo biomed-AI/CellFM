{
 "cells": [
  {
   "cell_type": "code",
   "execution_count": 1,
   "id": "15098aaa-fd3d-49d2-932a-1ee90af5b91f",
   "metadata": {
    "execution": {
     "iopub.execute_input": "2024-06-25T22:23:57.309025Z",
     "iopub.status.busy": "2024-06-25T22:23:57.308149Z",
     "iopub.status.idle": "2024-06-25T22:23:59.868044Z",
     "shell.execute_reply": "2024-06-25T22:23:59.867240Z",
     "shell.execute_reply.started": "2024-06-25T22:23:57.308973Z"
    },
    "tags": []
   },
   "outputs": [],
   "source": [
    "import os\n",
    "import glob\n",
    "import time\n",
    "import numpy as np\n",
    "import scipy as sp\n",
    "import pandas as pd\n",
    "import scanpy as sc\n",
    "import pickle as pk\n",
    "import anndata as ad\n",
    "import requests as rq\n",
    "import multiprocessing as mp\n",
    "from tqdm import tqdm,trange\n",
    "from functools import partial\n",
    "from scipy.sparse import csr_matrix as csr\n",
    "from scipy.sparse import csc_matrix as csc\n",
    "from multiprocessing import Process,Pool\n",
    "from sklearn.neighbors import NearestNeighbors as NN\n",
    "from scipy.spatial.distance import cdist\n",
    "from sklearn.model_selection import train_test_split\n",
    "import matplotlib.pyplot as plt"
   ]
  },
  {
   "cell_type": "code",
   "execution_count": 2,
   "id": "105262a0-1e60-479a-b905-041f3c4ef468",
   "metadata": {
    "execution": {
     "iopub.execute_input": "2024-06-25T22:23:59.869518Z",
     "iopub.status.busy": "2024-06-25T22:23:59.869162Z",
     "iopub.status.idle": "2024-06-25T22:24:01.181456Z",
     "shell.execute_reply": "2024-06-25T22:24:01.180649Z",
     "shell.execute_reply.started": "2024-06-25T22:23:59.869500Z"
    },
    "tags": []
   },
   "outputs": [],
   "source": [
    "gene_info=pd.read_csv(f'../csv/gene_info.csv',header=0,index_col=0)\n",
    "geneset=gene_info.index\n",
    "genemap={j:i+1 for i,j in enumerate(gene_info.index)}\n",
    "hgcn=pd.read_csv('../csv/updated_hgcn.tsv',index_col=1,header=0,sep='\\t')\n",
    "hgcn=hgcn[hgcn['Status']=='Approved']\n",
    "map_dict={}\n",
    "alias=hgcn['Alias symbols']\n",
    "prev=hgcn['Previous symbols']\n",
    "for i in hgcn.index:\n",
    "    if alias.loc[i] is not np.nan:\n",
    "        for j in alias.loc[i].split(', '):\n",
    "            if j not in hgcn.index:\n",
    "                map_dict[j]=i\n",
    "for i in hgcn.index:\n",
    "    if prev.loc[i] is not np.nan:\n",
    "        for j in prev.loc[i].split(', '):\n",
    "            if j not in hgcn.index:\n",
    "                map_dict[j]=i\n",
    "egsn=pd.read_csv('../csv/updated_hgcn.tsv',index_col=None,header=0,sep='\\t')\n",
    "egsn=egsn.dropna(subset=['Ensembl gene ID'])\n",
    "egsn=egsn.set_index('Ensembl gene ID')"
   ]
  },
  {
   "cell_type": "code",
   "execution_count": 3,
   "id": "fb71bdcb-23d6-4e48-be47-a3141c7d3951",
   "metadata": {
    "execution": {
     "iopub.execute_input": "2024-06-25T22:24:01.182694Z",
     "iopub.status.busy": "2024-06-25T22:24:01.182491Z",
     "iopub.status.idle": "2024-06-25T22:24:01.194801Z",
     "shell.execute_reply": "2024-06-25T22:24:01.194042Z",
     "shell.execute_reply.started": "2024-06-25T22:24:01.182679Z"
    },
    "tags": []
   },
   "outputs": [],
   "source": [
    "def recover(adata):\n",
    "    raw=np.expm1(adata.X.A)\n",
    "    scale=np.ones((raw.shape[0],1))\n",
    "    for i in trange(raw.shape[0]):\n",
    "        scale[i]=raw[i][raw[i]>0].min()\n",
    "    raw=csr(raw/scale)\n",
    "    raw.data+=0.499\n",
    "    adata.X=raw.astype(int)\n",
    "def map_gene(adata,geneset,map_dict,key=None):\n",
    "    if key==None:\n",
    "        adata.var['gene']=adata.var_names\n",
    "        key='gene'\n",
    "    adata.var[key]=adata.var[key].astype(str)\n",
    "    diff=np.setdiff1d(adata.var[key],geneset)\n",
    "    print(diff.shape)\n",
    "    adata.var['old_name']=adata.var[key].values.astype(str)\n",
    "    adata.var['new_name']=adata.var[key]\n",
    "    adata.var['origin']=adata.var_names\n",
    "    adata.var_names=adata.var[key]\n",
    "    for i in diff:\n",
    "        x=map_dict.get(i)\n",
    "        if x is None:\n",
    "            continue\n",
    "        if x not in adata.var['new_name'].values:\n",
    "            adata.var.loc[i,'new_name']=x\n",
    "    diff=np.setdiff1d(adata.var['new_name'],geneset)\n",
    "    adata.var_names=adata.var['new_name']\n",
    "    print(diff.shape)\n",
    "    return diff\n",
    "def train_split(adata,celltype_key,val_rate=0,test_rate=0.3,seed=0,batch_key=None):\n",
    "    np.random.seed(seed)\n",
    "    adata.obs['train']=0\n",
    "    if batch_key is None or batch_key not in adata.obs.columns:\n",
    "        for i in adata.obs[celltype_key].unique():\n",
    "            idx=adata.obs[celltype_key]==i\n",
    "            size=idx.sum()\n",
    "            order=np.random.permutation(size)\n",
    "            num1=int(np.ceil(size*test_rate))\n",
    "            num2=int(np.ceil(size*val_rate))\n",
    "            test=order[:num1]\n",
    "            val=order[num1:num1+num2]\n",
    "            test=idx.values.nonzero()[0][test]\n",
    "            val=idx.values.nonzero()[0][val]\n",
    "            adata.obs['train'][test]=2\n",
    "            adata.obs['train'][val]=1\n",
    "    else:\n",
    "        adatas=[adata[adata.obs[batch_key]==i].copy() for i in adata.obs[batch_key].unique()]\n",
    "        for adatai in adatas:\n",
    "            for i in adatai.obs[celltype_key].unique():\n",
    "                idx=adatai.obs[celltype_key]==i\n",
    "                size=idx.sum()\n",
    "                order=np.random.permutation(size)\n",
    "                num1=int(np.ceil(size*test_rate))\n",
    "                num2=int(np.ceil(size*val_rate))\n",
    "                test=order[:num1]\n",
    "                val=order[num1:num1+num2]\n",
    "                test=idx.values.nonzero()[0][test]\n",
    "                val=idx.values.nonzero()[0][val]\n",
    "                adatai.obs['train'][test]=2\n",
    "                adatai.obs['train'][val]=1\n",
    "        adata=sc.concat(adatas,merge='same')\n",
    "    return adata"
   ]
  },
  {
   "cell_type": "markdown",
   "id": "63e2ec28-578f-4ea5-8842-f4194b8348a4",
   "metadata": {},
   "source": [
    "## Preprocess for Cell Annotation"
   ]
  },
  {
   "cell_type": "code",
   "execution_count": 4,
   "id": "4cf7363d-c688-4cd7-bad8-dc6bedba9649",
   "metadata": {
    "execution": {
     "iopub.execute_input": "2024-06-25T22:24:07.113373Z",
     "iopub.status.busy": "2024-06-25T22:24:07.112904Z",
     "iopub.status.idle": "2024-06-25T22:24:08.836793Z",
     "shell.execute_reply": "2024-06-25T22:24:08.836030Z",
     "shell.execute_reply.started": "2024-06-25T22:24:07.113348Z"
    },
    "tags": []
   },
   "outputs": [
    {
     "data": {
      "text/plain": [
       "AnnData object with n_obs × n_vars = 14767 × 15558\n",
       "    obs: 'cell_type', 'batch'"
      ]
     },
     "execution_count": 4,
     "metadata": {},
     "output_type": "execute_result"
    }
   ],
   "source": [
    "adata=sc.read_h5ad('../datasets/Pancrm.h5ad')\n",
    "adata.X=csr(adata.X)\n",
    "adata"
   ]
  },
  {
   "cell_type": "markdown",
   "id": "bed98ed4-85e6-4884-84e7-c49f9b0d96f0",
   "metadata": {
    "tags": []
   },
   "source": [
    "Check whether the dataset has already been normalized, usually the gene expression value of normalized data won't exceed 9.21\\\n",
    "If so, recover it to the raw expression value by uncommenting this line."
   ]
  },
  {
   "cell_type": "code",
   "execution_count": 5,
   "id": "d4abf34f-58a1-4cb7-9501-639cf1b274ac",
   "metadata": {
    "execution": {
     "iopub.execute_input": "2024-06-25T22:24:10.497769Z",
     "iopub.status.busy": "2024-06-25T22:24:10.497408Z",
     "iopub.status.idle": "2024-06-25T22:24:10.501542Z",
     "shell.execute_reply": "2024-06-25T22:24:10.500613Z",
     "shell.execute_reply.started": "2024-06-25T22:24:10.497751Z"
    },
    "tags": []
   },
   "outputs": [],
   "source": [
    "#recover(adata)"
   ]
  },
  {
   "cell_type": "code",
   "execution_count": 6,
   "id": "6c1219e0-7c23-44ed-b6be-f443186ea42f",
   "metadata": {
    "execution": {
     "iopub.execute_input": "2024-06-25T22:24:11.080193Z",
     "iopub.status.busy": "2024-06-25T22:24:11.079564Z",
     "iopub.status.idle": "2024-06-25T22:24:12.618569Z",
     "shell.execute_reply": "2024-06-25T22:24:12.617260Z",
     "shell.execute_reply.started": "2024-06-25T22:24:11.080154Z"
    },
    "tags": []
   },
   "outputs": [],
   "source": [
    "sc.pp.filter_cells(adata,min_genes=1)\n",
    "sc.pp.filter_genes(adata,min_cells=1)"
   ]
  },
  {
   "cell_type": "code",
   "execution_count": 7,
   "id": "2a390e1a-a0e2-4f6f-8696-9ce1f970bc3f",
   "metadata": {
    "execution": {
     "iopub.execute_input": "2024-06-25T22:24:14.418307Z",
     "iopub.status.busy": "2024-06-25T22:24:14.417951Z",
     "iopub.status.idle": "2024-06-25T22:24:27.290452Z",
     "shell.execute_reply": "2024-06-25T22:24:27.289459Z",
     "shell.execute_reply.started": "2024-06-25T22:24:14.418282Z"
    },
    "tags": []
   },
   "outputs": [
    {
     "name": "stdout",
     "output_type": "stream",
     "text": [
      "(1017,)\n",
      "(273,)\n"
     ]
    }
   ],
   "source": [
    "diff=map_gene(adata,geneset,map_dict,key=None)\n",
    "adata.var_names=adata.var['new_name']"
   ]
  },
  {
   "cell_type": "code",
   "execution_count": 8,
   "id": "49ed5bfc-f7cc-4bc6-88a8-6f6a37aff720",
   "metadata": {
    "execution": {
     "iopub.execute_input": "2024-06-25T22:24:28.933281Z",
     "iopub.status.busy": "2024-06-25T22:24:28.933030Z",
     "iopub.status.idle": "2024-06-25T22:24:29.621377Z",
     "shell.execute_reply": "2024-06-25T22:24:29.620535Z",
     "shell.execute_reply.started": "2024-06-25T22:24:28.933261Z"
    },
    "tags": []
   },
   "outputs": [
    {
     "name": "stderr",
     "output_type": "stream",
     "text": [
      "/tmp/ipykernel_3133928/3734747957.py:59: SettingWithCopyWarning: \n",
      "A value is trying to be set on a copy of a slice from a DataFrame\n",
      "\n",
      "See the caveats in the documentation: https://pandas.pydata.org/pandas-docs/stable/user_guide/indexing.html#returning-a-view-versus-a-copy\n",
      "  adatai.obs['train'][test]=2\n",
      "/tmp/ipykernel_3133928/3734747957.py:60: SettingWithCopyWarning: \n",
      "A value is trying to be set on a copy of a slice from a DataFrame\n",
      "\n",
      "See the caveats in the documentation: https://pandas.pydata.org/pandas-docs/stable/user_guide/indexing.html#returning-a-view-versus-a-copy\n",
      "  adatai.obs['train'][val]=1\n"
     ]
    },
    {
     "data": {
      "text/plain": [
       "AnnData object with n_obs × n_vars = 14767 × 15558\n",
       "    obs: 'cell_type', 'batch', 'n_genes', 'train'\n",
       "    var: 'n_cells', 'gene', 'old_name', 'new_name', 'origin'"
      ]
     },
     "execution_count": 8,
     "metadata": {},
     "output_type": "execute_result"
    }
   ],
   "source": [
    "# each celltype in each batch will be uniformly randomly split into trainset, valset and testset\n",
    "train_split(adata,'cell_type',val_rate=0,test_rate=0.3,seed=0,batch_key='batch')"
   ]
  },
  {
   "cell_type": "code",
   "execution_count": 9,
   "id": "1cfbbf4c-d48d-4cc6-b096-c710815a75c5",
   "metadata": {
    "execution": {
     "iopub.execute_input": "2024-06-25T22:24:34.067633Z",
     "iopub.status.busy": "2024-06-25T22:24:34.067176Z",
     "iopub.status.idle": "2024-06-25T22:24:43.469667Z",
     "shell.execute_reply": "2024-06-25T22:24:43.468790Z",
     "shell.execute_reply.started": "2024-06-25T22:24:34.067611Z"
    },
    "tags": []
   },
   "outputs": [],
   "source": [
    "sc.write('../datasets/processed/Pancrm.h5ad',adata)"
   ]
  },
  {
   "cell_type": "markdown",
   "id": "b79947cf-7628-4fce-8c7b-3599ef24baa0",
   "metadata": {},
   "source": [
    "## Gene Function Prediction"
   ]
  },
  {
   "cell_type": "code",
   "execution_count": null,
   "id": "0cb3e8de-34ab-4fb8-b6ae-6d3049208c39",
   "metadata": {},
   "outputs": [],
   "source": [
    "adatas=[sc.read_h5ad(f'../datasets/genefunction//T{i}.h5ad') for i in range(1,4)]\n",
    "for a in adatas:\n",
    "    a.X=csr(a.X)"
   ]
  },
  {
   "cell_type": "code",
   "execution_count": null,
   "id": "7a6f55be-361e-4ac2-8e17-9b2cd5842b49",
   "metadata": {},
   "outputs": [],
   "source": [
    "adata=adatas[0].copy()"
   ]
  },
  {
   "cell_type": "code",
   "execution_count": null,
   "id": "d858a50a-099b-4b57-a42a-d2982e9d0afa",
   "metadata": {},
   "outputs": [],
   "source": [
    "folds=5\n",
    "for i in range(3):\n",
    "    np.random.seed(0)\n",
    "    adata.var[f'train_t{i+1}']=-1\n",
    "    for j in [0,1]:\n",
    "        idx=adata.var[f't{i+1}']==j\n",
    "        rate=idx.sum()\n",
    "        order=np.random.permutation(rate)\n",
    "        num=int(np.round(rate/folds))\n",
    "        for k in range(folds):\n",
    "            fold=order[num*k:num*(k+1)+(k==folds-1)*(rate%num)]\n",
    "            fold=idx.values.nonzero()[0][fold]\n",
    "            adata.var[f'train_t{i+1}'][fold]=k"
   ]
  }
 ],
 "metadata": {
  "kernelspec": {
   "display_name": "Python [conda env:ms22]",
   "language": "python",
   "name": "conda-env-ms22-py"
  },
  "language_info": {
   "codemirror_mode": {
    "name": "ipython",
    "version": 3
   },
   "file_extension": ".py",
   "mimetype": "text/x-python",
   "name": "python",
   "nbconvert_exporter": "python",
   "pygments_lexer": "ipython3",
   "version": "3.9.0"
  },
  "widgets": {
   "application/vnd.jupyter.widget-state+json": {
    "state": {},
    "version_major": 2,
    "version_minor": 0
   }
  }
 },
 "nbformat": 4,
 "nbformat_minor": 5
}
