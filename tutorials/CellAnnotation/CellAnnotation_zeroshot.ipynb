{
 "cells": [
  {
   "cell_type": "markdown",
   "id": "8c55d705",
   "metadata": {},
   "source": [
    "# CellFM Zero-shot for Cell Annotation Application"
   ]
  },
  {
   "cell_type": "code",
   "execution_count": 1,
   "id": "6a1da129-51bb-40f0-9cf0-141ccef906e4",
   "metadata": {
    "execution": {
     "iopub.execute_input": "2024-06-26T12:08:32.667840Z",
     "iopub.status.busy": "2024-06-26T12:08:32.667174Z",
     "iopub.status.idle": "2024-06-26T12:09:08.201757Z",
     "shell.execute_reply": "2024-06-26T12:09:08.200759Z",
     "shell.execute_reply.started": "2024-06-26T12:08:32.667786Z"
    },
    "tags": []
   },
   "outputs": [
    {
     "name": "stderr",
     "output_type": "stream",
     "text": [
      "[ERROR] ME(1189632:140419653146432,MainProcess):2024-12-16-20:45:21.436.362 [mindspore/run_check/_check_version.py:230] Cuda ['10.1', '11.1', '11.6'] version(libcudart*.so need by mindspore-gpu) is not found. Please confirm that the path of cuda is set to the env LD_LIBRARY_PATH, or check whether the CUDA version in wheel package and the CUDA runtime in current device matches. Please refer to the installation guidelines: https://www.mindspore.cn/install\n",
      "[ERROR] ME(1189632:140419653146432,MainProcess):2024-12-16-20:45:21.503.386 [mindspore/run_check/_check_version.py:230] Cuda ['10.1', '11.1', '11.6'] version(libcudnn*.so need by mindspore-gpu) is not found. Please confirm that the path of cuda is set to the env LD_LIBRARY_PATH, or check whether the CUDA version in wheel package and the CUDA runtime in current device matches. Please refer to the installation guidelines: https://www.mindspore.cn/install\n",
      "[WARNING] ME(1189632:140419653146432,MainProcess):2024-12-16-20:45:21.506.477 [mindspore/run_check/_check_version.py:98] Can not found cuda libs. Please confirm that the correct cuda version has been installed. Refer to the installation guidelines: https://www.mindspore.cn/install\n"
     ]
    }
   ],
   "source": [
    "import os\n",
    "import sys\n",
    "import glob\n",
    "import time\n",
    "import math\n",
    "import datetime\n",
    "import argparse\n",
    "import numpy as np\n",
    "import pandas as pd\n",
    "import scanpy as sc\n",
    "import anndata as ad\n",
    "import mindspore as ms\n",
    "import mindspore.numpy as mnp\n",
    "import mindspore.scipy as msc\n",
    "import mindspore.dataset as ds\n",
    "from tqdm import tqdm,trange\n",
    "from mindspore import nn,ops\n",
    "from scipy.sparse import csr_matrix as csm\n",
    "from mindspore.ops import operations as P\n",
    "from mindspore.amp import FixedLossScaleManager,all_finite,DynamicLossScaleManager\n",
    "from mindspore.train import Model, CheckpointConfig, ModelCheckpoint, LossMonitor\n",
    "from mindspore.context import ParallelMode\n",
    "from mindspore.communication import init, get_rank, get_group_size\n",
    "from mindspore.parallel._utils import _get_parallel_mode\n",
    "from mindspore.common.initializer import initializer, XavierNormal"
   ]
  },
  {
   "cell_type": "code",
   "execution_count": 2,
   "id": "340697f0-f9fa-4126-a66a-edffdaf7f859",
   "metadata": {
    "execution": {
     "iopub.execute_input": "2024-06-26T12:09:08.203652Z",
     "iopub.status.busy": "2024-06-26T12:09:08.203184Z",
     "iopub.status.idle": "2024-06-26T12:09:08.207207Z",
     "shell.execute_reply": "2024-06-26T12:09:08.206693Z",
     "shell.execute_reply.started": "2024-06-26T12:09:08.203628Z"
    },
    "tags": []
   },
   "outputs": [],
   "source": [
    "sys.path.append('../..')"
   ]
  },
  {
   "cell_type": "code",
   "execution_count": 3,
   "id": "5737d88d-dce4-4149-8217-3b8a8bc77324",
   "metadata": {
    "execution": {
     "iopub.execute_input": "2024-06-26T12:09:08.208344Z",
     "iopub.status.busy": "2024-06-26T12:09:08.207940Z",
     "iopub.status.idle": "2024-06-26T12:09:08.645116Z",
     "shell.execute_reply": "2024-06-26T12:09:08.644250Z",
     "shell.execute_reply.started": "2024-06-26T12:09:08.208325Z"
    },
    "tags": []
   },
   "outputs": [],
   "source": [
    "from config import Config\n",
    "from annotation_model import *\n",
    "from metrics import annote_metric\n",
    "from utils import Wrapper\n",
    "from data_process import Prepare"
   ]
  },
  {
   "cell_type": "markdown",
   "id": "992731c8",
   "metadata": {},
   "source": [
    "## Prepare training and test datasets"
   ]
  },
  {
   "cell_type": "code",
   "execution_count": 4,
   "id": "b20d430d-1f4d-4b18-b386-612f5b381534",
   "metadata": {
    "execution": {
     "iopub.execute_input": "2024-06-26T12:09:08.647024Z",
     "iopub.status.busy": "2024-06-26T12:09:08.646800Z",
     "iopub.status.idle": "2024-06-26T12:09:08.651621Z",
     "shell.execute_reply": "2024-06-26T12:09:08.650890Z",
     "shell.execute_reply.started": "2024-06-26T12:09:08.647004Z"
    },
    "tags": []
   },
   "outputs": [],
   "source": [
    "# Freezing the parameters of the backbone in the context of a zero-shot model.\n",
    "def freeze_module(module,filter_tag=[None]):\n",
    "    for param in module.trainable_params():\n",
    "        x=False\n",
    "        for tag in filter_tag:\n",
    "            if tag and tag in param.name:\n",
    "                x=True\n",
    "                break\n",
    "        param.requires_grad = x"
   ]
  },
  {
   "cell_type": "code",
   "execution_count": 5,
   "id": "e787f5d5-db9f-4473-a3cf-3ec159a31b3b",
   "metadata": {
    "execution": {
     "iopub.execute_input": "2024-06-26T12:09:08.652490Z",
     "iopub.status.busy": "2024-06-26T12:09:08.652296Z",
     "iopub.status.idle": "2024-06-26T12:09:08.661007Z",
     "shell.execute_reply": "2024-06-26T12:09:08.660286Z",
     "shell.execute_reply.started": "2024-06-26T12:09:08.652473Z"
    },
    "tags": []
   },
   "outputs": [],
   "source": [
    "# Loading training and testing datasets in H5AD format.\n",
    "def read_h5ad(path):\n",
    "    train_data = sc.read_h5ad(path+\"/train.h5ad\")\n",
    "    test_data = sc.read_h5ad(path+\"/test.h5ad\")\n",
    "\n",
    "    train_data.obs['train'] = 0\n",
    "    test_data.obs['train']  = 2\n",
    "\n",
    "    adata = ad.concat([train_data, test_data], join='outer')\n",
    "    print('origin shape:',adata.shape,len(adata.obs['cell_type'].unique()))\n",
    "        \n",
    "    data=adata.X.astype(np.float32)\n",
    "    T=adata.X.sum(1)\n",
    "    data=csm(np.round(data/np.maximum(1,T/1e5,dtype=np.float32)))\n",
    "    data.eliminate_zeros()\n",
    "    adata.X=data\n",
    "    \n",
    "    return adata"
   ]
  },
  {
   "cell_type": "code",
   "execution_count": 6,
   "id": "3c542bfb-5919-4a28-926f-07e72bb53448",
   "metadata": {
    "execution": {
     "iopub.execute_input": "2024-06-26T12:09:08.661906Z",
     "iopub.status.busy": "2024-06-26T12:09:08.661714Z",
     "iopub.status.idle": "2024-06-26T12:09:08.680291Z",
     "shell.execute_reply": "2024-06-26T12:09:08.679394Z",
     "shell.execute_reply.started": "2024-06-26T12:09:08.661889Z"
    },
    "tags": []
   },
   "outputs": [],
   "source": [
    "class SCrna():\n",
    "    def __init__(self,adata,mode='train',prep=True):\n",
    "        self.cls=len(adata.obs['cell_type'].unique())\n",
    "        if mode==\"train\":\n",
    "            adata=adata[adata.obs.train==0]\n",
    "        elif mode=='val':\n",
    "            adata=adata[adata.obs.train==1]\n",
    "        else:\n",
    "            adata=adata[adata.obs.train==2]\n",
    "        self.gene_info=pd.read_csv(f'../../csv/expand_gene_info.csv',index_col=0,header=0)\n",
    "        self.geneset={j:i+1 for i,j in enumerate(self.gene_info.index)}\n",
    "        \n",
    "        gene=np.intersect1d(adata.var_names,self.gene_info.index)\n",
    "        adata=adata[:,gene].copy()\n",
    "        adata.obs['cell_type']=adata.obs['cell_type'].astype('category')\n",
    "        label=adata.obs['cell_type'].cat.codes.values\n",
    "        adata.obs['label']=label\n",
    "        if prep:\n",
    "            adata.layers['x_normed']=sc.pp.normalize_total(adata,target_sum=1e4,inplace=False)['X']\n",
    "            adata.layers['x_log1p']=adata.layers['x_normed']\n",
    "            sc.pp.log1p(adata,layer='x_log1p')\n",
    "        self.adata=adata\n",
    "        self.id2label=adata.obs['cell_type'].cat.categories.values\n",
    "        self.gene=np.array([self.geneset[i] for i in self.adata.var_names]).astype(np.int32)\n",
    "        self.cls=len(adata.obs['cell_type'].unique())\n",
    "        self.label=self.adata.obs['label'].values.astype(np.int32)\n",
    "        print(f'{mode} adata:',adata.shape,self.cls)\n",
    "        if prep:\n",
    "            self.data=self.adata.layers['x_log1p'].A.astype(np.float32)\n",
    "        else:\n",
    "            self.data=self.adata.X.astype(np.int32)\n",
    "    def __len__(self):\n",
    "        return len(self.adata)\n",
    "    def __getitem__(self,idx):\n",
    "        data=self.data[idx].reshape(-1)\n",
    "        label=self.label[idx]\n",
    "        return data,self.gene,label"
   ]
  },
  {
   "cell_type": "code",
   "execution_count": 7,
   "id": "70766405-a73f-46ba-a918-e3d88f2c9eda",
   "metadata": {
    "execution": {
     "iopub.execute_input": "2024-06-26T12:09:08.681848Z",
     "iopub.status.busy": "2024-06-26T12:09:08.681404Z",
     "iopub.status.idle": "2024-06-26T12:09:08.692598Z",
     "shell.execute_reply": "2024-06-26T12:09:08.691704Z",
     "shell.execute_reply.started": "2024-06-26T12:09:08.681819Z"
    },
    "tags": []
   },
   "outputs": [],
   "source": [
    "# Creating a data loader\n",
    "def build_dataset(\n",
    "    data,prep,batch,\n",
    "    rank_size=None,\n",
    "    rank_id=None,\n",
    "    drop=True,\n",
    "    shuffle=True\n",
    "):\n",
    "    dataset = ds.GeneratorDataset(\n",
    "        data, \n",
    "        column_names=['data','gene','label'],\n",
    "        shuffle=shuffle,\n",
    "        num_shards=rank_size, \n",
    "        shard_id=rank_id\n",
    "    )\n",
    "    dataset = dataset.map(\n",
    "        prep.seperate, input_columns=['data'],\n",
    "        output_columns=['data', 'nonz','zero']\n",
    "    )\n",
    "    dataset = dataset.map(\n",
    "        prep.sample, input_columns=['data','nonz','zero'],\n",
    "        output_columns=['data','nonz','cuted','z_sample','seq_len']\n",
    "    )\n",
    "    dataset = dataset.map(\n",
    "        prep.compress, input_columns=['data','nonz'],\n",
    "        output_columns=['data','nonz_data', 'nonz']\n",
    "    )\n",
    "    dataset = dataset.map(\n",
    "        prep.compress, input_columns=['gene','nonz'],\n",
    "        output_columns=['gene','nonz_gene', 'nonz']\n",
    "    )\n",
    "    dataset = dataset.map(\n",
    "        prep.attn_mask, input_columns=['seq_len'],\n",
    "        output_columns=['zero_idx']\n",
    "    )\n",
    "    dataset = dataset.map(prep.pad_zero, input_columns=['nonz_data'])\n",
    "    dataset = dataset.map(prep.pad_zero, input_columns=['nonz_gene'])\n",
    "    dataset=dataset.project(\n",
    "        columns=['nonz_data','nonz_gene','zero_idx','label']\n",
    "    )\n",
    "    dataset = dataset.batch(\n",
    "        batch,\n",
    "        num_parallel_workers=4, \n",
    "        drop_remainder=drop, \n",
    "    )\n",
    "    return dataset"
   ]
  },
  {
   "cell_type": "code",
   "execution_count": 8,
   "id": "d7d22789-889c-4db4-b828-63bdb94afbdc",
   "metadata": {
    "execution": {
     "iopub.execute_input": "2024-06-26T12:09:08.694008Z",
     "iopub.status.busy": "2024-06-26T12:09:08.693682Z",
     "iopub.status.idle": "2024-06-26T12:09:08.698960Z",
     "shell.execute_reply": "2024-06-26T12:09:08.698089Z",
     "shell.execute_reply.started": "2024-06-26T12:09:08.693981Z"
    },
    "tags": []
   },
   "outputs": [],
   "source": [
    "# Here, you can choose the type and number of the GPU, such as Ascend and GPU.\n",
    "ms.set_context(\n",
    "    device_target='GPU', \n",
    "    mode=ms.GRAPH_MODE,\n",
    "    device_id=0,\n",
    ")\n",
    "ms.set_seed(0)"
   ]
  },
  {
   "cell_type": "code",
   "execution_count": 9,
   "id": "8fa54c88-b012-47a9-a17e-05efbcabb8c7",
   "metadata": {
    "execution": {
     "iopub.execute_input": "2024-06-26T12:09:08.700779Z",
     "iopub.status.busy": "2024-06-26T12:09:08.700033Z",
     "iopub.status.idle": "2024-06-26T12:09:17.485125Z",
     "shell.execute_reply": "2024-06-26T12:09:17.484216Z",
     "shell.execute_reply.started": "2024-06-26T12:09:08.700750Z"
    },
    "tags": []
   },
   "outputs": [
    {
     "name": "stdout",
     "output_type": "stream",
     "text": [
      "origin shape: (4014, 20007) 12\n",
      "train adata: (3402, 15760) 12\n",
      "test adata: (612, 15760) 12\n"
     ]
    }
   ],
   "source": [
    "adata=read_h5ad(f\"../datasets/cell_annotion/Inter/Liver3\")\n",
    "trainset=SCrna(adata,mode='train')\n",
    "testset=SCrna(adata,mode='test')"
   ]
  },
  {
   "cell_type": "code",
   "execution_count": 10,
   "id": "ec6eb299-0726-4004-a064-a0f1ad264bfc",
   "metadata": {
    "execution": {
     "iopub.execute_input": "2024-06-26T12:09:17.487085Z",
     "iopub.status.busy": "2024-06-26T12:09:17.486898Z",
     "iopub.status.idle": "2024-06-26T12:09:17.490907Z",
     "shell.execute_reply": "2024-06-26T12:09:17.490091Z",
     "shell.execute_reply.started": "2024-06-26T12:09:17.487067Z"
    },
    "tags": []
   },
   "outputs": [],
   "source": [
    "cfg=Config()\n",
    "cfg.num_cls=trainset.cls\n",
    "cfg.enc_nlayers=2"
   ]
  },
  {
   "cell_type": "code",
   "execution_count": 11,
   "id": "8e0e09b3-474f-4c24-a64e-2945b91afeb8",
   "metadata": {
    "execution": {
     "iopub.execute_input": "2024-06-26T12:09:17.491635Z",
     "iopub.status.busy": "2024-06-26T12:09:17.491475Z",
     "iopub.status.idle": "2024-06-26T12:09:17.501577Z",
     "shell.execute_reply": "2024-06-26T12:09:17.500873Z",
     "shell.execute_reply.started": "2024-06-26T12:09:17.491621Z"
    },
    "tags": []
   },
   "outputs": [],
   "source": [
    "prep=Prepare(\n",
    "    cfg.nonz_len,pad=1,mask_ratio=0,random=False\n",
    ")\n",
    "train_loader=build_dataset(\n",
    "    trainset,\n",
    "    prep,\n",
    "    16,\n",
    "    drop=True,\n",
    "    shuffle=True,\n",
    ")\n",
    "test_loader=build_dataset(\n",
    "    testset,\n",
    "    prep,\n",
    "    1,\n",
    "    drop=False,\n",
    "    shuffle=False,\n",
    ")"
   ]
  },
  {
   "cell_type": "markdown",
   "id": "b95435ab",
   "metadata": {},
   "source": [
    "## Create the training model for CellFM and freeze the parameters of its backbone layer."
   ]
  },
  {
   "cell_type": "code",
   "execution_count": 12,
   "id": "377701df-4390-49d3-8b57-c1f838cff281",
   "metadata": {
    "execution": {
     "iopub.execute_input": "2024-06-26T12:09:17.502287Z",
     "iopub.status.busy": "2024-06-26T12:09:17.502132Z",
     "iopub.status.idle": "2024-06-26T12:09:46.211822Z",
     "shell.execute_reply": "2024-06-26T12:09:46.210586Z",
     "shell.execute_reply.started": "2024-06-26T12:09:17.502274Z"
    },
    "tags": []
   },
   "outputs": [],
   "source": [
    "para=ms.load_checkpoint(\"../checkpoint/CellFM_80M_weight.ckpt\")"
   ]
  },
  {
   "cell_type": "code",
   "execution_count": 13,
   "id": "76df8be4-2701-4915-9d01-5ff091ac885f",
   "metadata": {
    "execution": {
     "iopub.execute_input": "2024-06-26T12:09:46.213415Z",
     "iopub.status.busy": "2024-06-26T12:09:46.213146Z",
     "iopub.status.idle": "2024-06-26T12:10:03.557228Z",
     "shell.execute_reply": "2024-06-26T12:10:03.555859Z",
     "shell.execute_reply.started": "2024-06-26T12:09:46.213387Z"
    },
    "tags": []
   },
   "outputs": [],
   "source": [
    "backbone=Backbone(len(trainset.geneset),cfg)\n",
    "ms.load_param_into_net(backbone, para)\n",
    "model=Net(backbone,cfg)"
   ]
  },
  {
   "cell_type": "code",
   "execution_count": 14,
   "id": "c55a536d-4ce3-4bac-901d-1a3e3906779b",
   "metadata": {
    "execution": {
     "iopub.execute_input": "2024-06-26T12:10:03.559227Z",
     "iopub.status.busy": "2024-06-26T12:10:03.558552Z",
     "iopub.status.idle": "2024-06-26T12:10:03.569179Z",
     "shell.execute_reply": "2024-06-26T12:10:03.568104Z",
     "shell.execute_reply.started": "2024-06-26T12:10:03.559198Z"
    },
    "tags": []
   },
   "outputs": [],
   "source": [
    "freeze_module(model.extractor)"
   ]
  },
  {
   "cell_type": "code",
   "execution_count": 15,
   "id": "2b3b63d7-46a4-45ea-9307-823e71e545ac",
   "metadata": {
    "execution": {
     "iopub.execute_input": "2024-06-26T12:10:03.570857Z",
     "iopub.status.busy": "2024-06-26T12:10:03.570229Z",
     "iopub.status.idle": "2024-06-26T12:10:04.039259Z",
     "shell.execute_reply": "2024-06-26T12:10:04.038205Z",
     "shell.execute_reply.started": "2024-06-26T12:10:03.570830Z"
    },
    "tags": []
   },
   "outputs": [],
   "source": [
    "optimizer=nn.Adam(model.trainable_params(),1e-4,weight_decay=1e-5)\n",
    "update_cell=nn.DynamicLossScaleUpdateCell(1,2,1000)\n",
    "wrapper=Wrapper(model,optimizer)\n",
    "trainer=Model(\n",
    "    wrapper,\n",
    "    eval_network=model,\n",
    "    amp_level='O0',\n",
    "    metrics={\n",
    "        'accuracy':annote_metric(trainset.cls,key='accuracy'),\n",
    "    },\n",
    "    eval_indexes=[0,1,2]\n",
    ")\n",
    "loss_cb = LossMonitor(20)"
   ]
  },
  {
   "cell_type": "code",
   "execution_count": 16,
   "id": "f9cceaea-0044-4f11-9249-9766746294c3",
   "metadata": {
    "execution": {
     "iopub.execute_input": "2024-06-26T12:10:51.761637Z",
     "iopub.status.busy": "2024-06-26T12:10:51.761078Z",
     "iopub.status.idle": "2024-06-26T12:10:51.767692Z",
     "shell.execute_reply": "2024-06-26T12:10:51.766676Z",
     "shell.execute_reply.started": "2024-06-26T12:10:51.761612Z"
    },
    "tags": []
   },
   "outputs": [],
   "source": [
    "loss_cb = LossMonitor(20)\n",
    "ckpt_config = CheckpointConfig(\n",
    "    save_checkpoint_steps=len(train_loader),\n",
    "    keep_checkpoint_max=1,\n",
    "    integrated_save=False,\n",
    "    async_save=False\n",
    ")\n",
    "ckpt_cb = ModelCheckpoint(\n",
    "    prefix=f'Liver3_zeroshot', \n",
    "    directory=f\"../checkpoint/CellAnnotation/\", \n",
    "    config=ckpt_config\n",
    ")\n",
    "cbs=[loss_cb,ckpt_cb]"
   ]
  },
  {
   "cell_type": "markdown",
   "id": "4704cf69",
   "metadata": {},
   "source": [
    "## Model training and evaluation"
   ]
  },
  {
   "cell_type": "code",
   "execution_count": 17,
   "id": "afdc6c97-c541-4210-8688-672bafe5b058",
   "metadata": {
    "execution": {
     "iopub.execute_input": "2024-06-26T01:32:55.178632Z",
     "iopub.status.busy": "2024-06-26T01:32:55.178474Z",
     "iopub.status.idle": "2024-06-26T11:57:00.626089Z",
     "shell.execute_reply": "2024-06-26T11:57:00.617142Z",
     "shell.execute_reply.started": "2024-06-26T01:32:55.178619Z"
    },
    "scrolled": true,
    "tags": []
   },
   "outputs": [
    {
     "name": "stdout",
     "output_type": "stream",
     "text": [
      "epoch: 1 step: 20, loss is 2.5083718299865723\n",
      "epoch: 1 step: 40, loss is 1.8856178522109985\n",
      "epoch: 1 step: 60, loss is 0.8571237325668335\n",
      "epoch: 1 step: 80, loss is 0.25524070858955383\n",
      "epoch: 1 step: 100, loss is 1.1458042860031128\n",
      "epoch: 1 step: 120, loss is 0.6305822134017944\n",
      "epoch: 1 step: 140, loss is 0.4231998324394226\n",
      "epoch: 1 step: 160, loss is 0.7089542746543884\n",
      "epoch: 1 step: 180, loss is 0.9662556648254395\n",
      "epoch: 1 step: 200, loss is 0.2579959034919739\n",
      "epoch: 2 step: 8, loss is 0.08099916577339172\n",
      "epoch: 2 step: 28, loss is 0.10933481156826019\n",
      "epoch: 2 step: 48, loss is 0.19778043031692505\n",
      "epoch: 2 step: 68, loss is 0.05334336683154106\n",
      "epoch: 2 step: 88, loss is 0.0036920057609677315\n",
      "epoch: 2 step: 108, loss is 0.026573309674859047\n",
      "epoch: 2 step: 128, loss is 0.8848670721054077\n",
      "epoch: 2 step: 148, loss is 0.9530234336853027\n",
      "epoch: 2 step: 168, loss is 1.1099324226379395\n",
      "epoch: 2 step: 188, loss is 0.3019728660583496\n",
      "epoch: 2 step: 208, loss is 0.5893732309341431\n",
      "epoch: 3 step: 16, loss is 0.17483529448509216\n",
      "epoch: 3 step: 36, loss is 0.05802913010120392\n",
      "epoch: 3 step: 56, loss is 0.08361224830150604\n",
      "epoch: 3 step: 76, loss is 0.2339291274547577\n",
      "epoch: 3 step: 96, loss is 0.09283958375453949\n",
      "epoch: 3 step: 116, loss is 0.004108212422579527\n",
      "epoch: 3 step: 136, loss is 0.008041813038289547\n",
      "epoch: 3 step: 156, loss is 0.002001292072236538\n",
      "epoch: 3 step: 176, loss is 0.13035179674625397\n",
      "epoch: 3 step: 196, loss is 0.014205580577254295\n",
      "epoch: 4 step: 4, loss is 0.11447468400001526\n",
      "epoch: 4 step: 24, loss is 0.012853882275521755\n",
      "epoch: 4 step: 44, loss is 0.7619343400001526\n",
      "epoch: 4 step: 64, loss is 0.0309101901948452\n",
      "epoch: 4 step: 84, loss is 0.004892803728580475\n",
      "epoch: 4 step: 104, loss is 0.0012685880064964294\n",
      "epoch: 4 step: 124, loss is 0.043651167303323746\n",
      "epoch: 4 step: 144, loss is 0.008240064606070518\n",
      "epoch: 4 step: 164, loss is 0.0073108007200062275\n",
      "epoch: 4 step: 184, loss is 0.03930438682436943\n",
      "epoch: 4 step: 204, loss is 0.020121652632951736\n",
      "epoch: 5 step: 12, loss is 0.0063545918092131615\n",
      "epoch: 5 step: 32, loss is 0.0003052821848541498\n",
      "epoch: 5 step: 52, loss is 0.0018900411669164896\n",
      "epoch: 5 step: 72, loss is 0.00032418937189504504\n",
      "epoch: 5 step: 92, loss is 0.0010244989534839988\n",
      "epoch: 5 step: 112, loss is 0.0005488370661623776\n",
      "epoch: 5 step: 132, loss is 6.724435661453754e-05\n",
      "epoch: 5 step: 152, loss is 0.0002929567126557231\n",
      "epoch: 5 step: 172, loss is 0.0007869703113101423\n",
      "epoch: 5 step: 192, loss is 0.0059026749804615974\n",
      "epoch: 5 step: 212, loss is 0.0011076206574216485\n",
      "epoch: 6 step: 20, loss is 0.05260405316948891\n",
      "epoch: 6 step: 40, loss is 0.1949211061000824\n",
      "epoch: 6 step: 60, loss is 0.0003894359106197953\n",
      "epoch: 6 step: 80, loss is 0.0021513882093131542\n",
      "epoch: 6 step: 100, loss is 0.00016105477698147297\n",
      "epoch: 6 step: 120, loss is 0.013484029099345207\n",
      "epoch: 6 step: 140, loss is 0.0947854146361351\n",
      "epoch: 6 step: 160, loss is 0.00023316466831602156\n",
      "epoch: 6 step: 180, loss is 0.0021498347632586956\n",
      "epoch: 6 step: 200, loss is 0.062827467918396\n",
      "epoch: 7 step: 8, loss is 0.25612813234329224\n",
      "epoch: 7 step: 28, loss is 0.00782646145671606\n",
      "epoch: 7 step: 48, loss is 0.02645013853907585\n",
      "epoch: 7 step: 68, loss is 0.013031959533691406\n",
      "epoch: 7 step: 88, loss is 0.0014747078530490398\n",
      "epoch: 7 step: 108, loss is 0.03854833543300629\n",
      "epoch: 7 step: 128, loss is 0.02471628598868847\n",
      "epoch: 7 step: 148, loss is 0.0006497486028820276\n",
      "epoch: 7 step: 168, loss is 0.0022185547277331352\n",
      "epoch: 7 step: 188, loss is 0.00021077472774777561\n",
      "epoch: 7 step: 208, loss is 0.04211515188217163\n",
      "epoch: 8 step: 16, loss is 0.029025696218013763\n",
      "epoch: 8 step: 36, loss is 0.00021151057444512844\n",
      "epoch: 8 step: 56, loss is 0.0006779510877095163\n",
      "epoch: 8 step: 76, loss is 0.035498302429914474\n",
      "epoch: 8 step: 96, loss is 0.0006416254909709096\n",
      "epoch: 8 step: 116, loss is 0.022034112364053726\n",
      "epoch: 8 step: 136, loss is 0.0006166456150822341\n",
      "epoch: 8 step: 156, loss is 0.11442998051643372\n",
      "epoch: 8 step: 176, loss is 0.3660430312156677\n",
      "epoch: 8 step: 196, loss is 0.00019345729378983378\n",
      "epoch: 9 step: 4, loss is 1.148749589920044\n",
      "epoch: 9 step: 24, loss is 0.014142024330794811\n",
      "epoch: 9 step: 44, loss is 0.008055481128394604\n",
      "epoch: 9 step: 64, loss is 0.294967919588089\n",
      "epoch: 9 step: 84, loss is 0.008567527867853642\n",
      "epoch: 9 step: 104, loss is 0.1453629732131958\n",
      "epoch: 9 step: 124, loss is 0.08655393123626709\n",
      "epoch: 9 step: 144, loss is 0.028688309714198112\n",
      "epoch: 9 step: 164, loss is 0.010715624317526817\n",
      "epoch: 9 step: 184, loss is 0.04640607163310051\n",
      "epoch: 9 step: 204, loss is 0.11059196293354034\n",
      "epoch: 10 step: 12, loss is 0.0003241756930947304\n",
      "epoch: 10 step: 32, loss is 0.0002265595248900354\n",
      "epoch: 10 step: 52, loss is 0.0006108387606218457\n",
      "epoch: 10 step: 72, loss is 9.924703044816852e-05\n",
      "epoch: 10 step: 92, loss is 0.00015900138532742858\n",
      "epoch: 10 step: 112, loss is 0.04324828460812569\n",
      "epoch: 10 step: 132, loss is 0.020397834479808807\n",
      "epoch: 10 step: 152, loss is 0.013325488194823265\n",
      "epoch: 10 step: 172, loss is 0.02329920418560505\n",
      "epoch: 10 step: 192, loss is 0.005171594209969044\n",
      "epoch: 10 step: 212, loss is 8.130756759783253e-05\n",
      "epoch: 11 step: 20, loss is 0.00027685277746059\n",
      "epoch: 11 step: 40, loss is 0.0006189450505189598\n",
      "epoch: 11 step: 60, loss is 5.1682687626453117e-05\n",
      "epoch: 11 step: 80, loss is 0.00013632628542836756\n",
      "epoch: 11 step: 100, loss is 6.653420132352039e-05\n",
      "epoch: 11 step: 120, loss is 4.499206261243671e-05\n",
      "epoch: 11 step: 140, loss is 0.0003280085511505604\n",
      "epoch: 11 step: 160, loss is 0.00030555439298041165\n",
      "epoch: 11 step: 180, loss is 2.911623778345529e-05\n",
      "epoch: 11 step: 200, loss is 6.111570837674662e-05\n",
      "epoch: 12 step: 8, loss is 0.0002571819059085101\n",
      "epoch: 12 step: 28, loss is 4.2525520257186145e-05\n",
      "epoch: 12 step: 48, loss is 3.444331377977505e-05\n",
      "epoch: 12 step: 68, loss is 5.7850906159728765e-05\n",
      "epoch: 12 step: 88, loss is 7.498411287087947e-05\n",
      "epoch: 12 step: 108, loss is 1.917763802339323e-05\n",
      "epoch: 12 step: 128, loss is 2.004182169912383e-05\n",
      "epoch: 12 step: 148, loss is 0.000433239882113412\n",
      "epoch: 12 step: 168, loss is 4.420948607730679e-05\n",
      "epoch: 12 step: 188, loss is 2.2105403331806883e-05\n",
      "epoch: 12 step: 208, loss is 1.1630272638285533e-05\n",
      "epoch: 13 step: 16, loss is 2.6344574507675134e-05\n",
      "epoch: 13 step: 36, loss is 8.0753059592098e-05\n",
      "epoch: 13 step: 56, loss is 0.0001116386047215201\n",
      "epoch: 13 step: 76, loss is 3.656551780295558e-05\n",
      "epoch: 13 step: 96, loss is 1.2837258509534877e-05\n",
      "epoch: 13 step: 116, loss is 1.5213939150271472e-05\n",
      "epoch: 13 step: 136, loss is 8.178269490599632e-05\n",
      "epoch: 13 step: 156, loss is 4.049838753417134e-05\n",
      "epoch: 13 step: 176, loss is 1.678598709986545e-05\n",
      "epoch: 13 step: 196, loss is 2.492153726052493e-05\n",
      "epoch: 14 step: 4, loss is 5.4328284022631124e-05\n",
      "epoch: 14 step: 24, loss is 2.252246849820949e-05\n",
      "epoch: 14 step: 44, loss is 3.823271981673315e-05\n",
      "epoch: 14 step: 64, loss is 2.7111003873869777e-05\n",
      "epoch: 14 step: 84, loss is 3.901591117028147e-05\n",
      "epoch: 14 step: 104, loss is 2.196344212279655e-05\n",
      "epoch: 14 step: 124, loss is 1.519157740403898e-05\n",
      "epoch: 14 step: 144, loss is 3.3331423765048385e-05\n",
      "epoch: 14 step: 164, loss is 4.24129975726828e-05\n",
      "epoch: 14 step: 184, loss is 1.8365270079812035e-05\n",
      "epoch: 14 step: 204, loss is 1.3485437193594407e-05\n",
      "epoch: 15 step: 12, loss is 4.7081237426027656e-05\n",
      "epoch: 15 step: 32, loss is 1.2032604900014121e-05\n",
      "epoch: 15 step: 52, loss is 1.587696715432685e-05\n",
      "epoch: 15 step: 72, loss is 3.0323224564199336e-05\n",
      "epoch: 15 step: 92, loss is 2.2254185751080513e-05\n",
      "epoch: 15 step: 112, loss is 4.0015023841988295e-05\n",
      "epoch: 15 step: 132, loss is 2.898119782912545e-05\n",
      "epoch: 15 step: 152, loss is 2.3073982447385788e-05\n",
      "epoch: 15 step: 172, loss is 0.000603952503297478\n",
      "epoch: 15 step: 192, loss is 0.007344014942646027\n",
      "epoch: 15 step: 212, loss is 0.003908686805516481\n",
      "epoch: 16 step: 20, loss is 0.00014915851352270693\n",
      "epoch: 16 step: 40, loss is 1.8082402675645426e-05\n",
      "epoch: 16 step: 60, loss is 0.0001557821233291179\n",
      "epoch: 16 step: 80, loss is 2.8743532311636955e-05\n",
      "epoch: 16 step: 100, loss is 6.92066241754219e-05\n",
      "epoch: 16 step: 120, loss is 4.032134165754542e-05\n",
      "epoch: 16 step: 140, loss is 1.1451439604570623e-05\n",
      "epoch: 16 step: 160, loss is 0.00011651051318040118\n",
      "epoch: 16 step: 180, loss is 0.00012723985128104687\n",
      "epoch: 16 step: 200, loss is 5.0780588935595006e-05\n",
      "epoch: 17 step: 8, loss is 3.2468200515722856e-05\n",
      "epoch: 17 step: 28, loss is 3.352638668729924e-05\n",
      "epoch: 17 step: 48, loss is 4.217582318233326e-05\n",
      "epoch: 17 step: 68, loss is 3.0986022466095164e-05\n",
      "epoch: 17 step: 88, loss is 4.6421038859989494e-05\n",
      "epoch: 17 step: 108, loss is 5.4055686632636935e-05\n",
      "epoch: 17 step: 128, loss is 2.0592713553924114e-05\n",
      "epoch: 17 step: 148, loss is 5.171849988983013e-05\n",
      "epoch: 17 step: 168, loss is 0.0003088826488237828\n",
      "epoch: 17 step: 188, loss is 3.225218824809417e-05\n",
      "epoch: 17 step: 208, loss is 1.7635320546105504e-05\n",
      "epoch: 18 step: 16, loss is 4.423977588885464e-05\n",
      "epoch: 18 step: 36, loss is 2.5055527657968923e-05\n",
      "epoch: 18 step: 56, loss is 2.4839395337039605e-05\n",
      "epoch: 18 step: 76, loss is 3.6177585570840165e-05\n",
      "epoch: 18 step: 96, loss is 5.776723628514446e-05\n",
      "epoch: 18 step: 116, loss is 1.671868267294485e-05\n",
      "epoch: 18 step: 136, loss is 6.415315147023648e-05\n",
      "epoch: 18 step: 156, loss is 1.3157508874428459e-05\n",
      "epoch: 18 step: 176, loss is 4.0303370042238384e-05\n",
      "epoch: 18 step: 196, loss is 2.622532883833628e-05\n",
      "epoch: 19 step: 4, loss is 0.00011068160529248416\n",
      "epoch: 19 step: 24, loss is 9.695450717117637e-05\n",
      "epoch: 19 step: 44, loss is 1.804502790037077e-05\n",
      "epoch: 19 step: 64, loss is 5.675914871972054e-05\n",
      "epoch: 19 step: 84, loss is 1.905022145365365e-05\n",
      "epoch: 19 step: 104, loss is 2.3266624339157715e-05\n",
      "epoch: 19 step: 124, loss is 0.0005935544613748789\n",
      "epoch: 19 step: 144, loss is 2.205329656135291e-05\n",
      "epoch: 19 step: 164, loss is 8.00800698925741e-05\n",
      "epoch: 19 step: 184, loss is 3.18802340188995e-05\n",
      "epoch: 19 step: 204, loss is 7.480339263565838e-06\n",
      "epoch: 20 step: 12, loss is 6.638442300754832e-06\n",
      "epoch: 20 step: 32, loss is 1.9222108676331118e-05\n",
      "epoch: 20 step: 52, loss is 2.6567029635771178e-05\n",
      "epoch: 20 step: 72, loss is 4.943673775414936e-05\n",
      "epoch: 20 step: 92, loss is 0.00015566195361316204\n",
      "epoch: 20 step: 112, loss is 1.249452088813996e-05\n",
      "epoch: 20 step: 132, loss is 2.318500446563121e-05\n",
      "epoch: 20 step: 152, loss is 2.0219740690663457e-05\n",
      "epoch: 20 step: 172, loss is 0.00040625923429615796\n",
      "epoch: 20 step: 192, loss is 1.4260231182561256e-05\n",
      "epoch: 20 step: 212, loss is 6.586291874555172e-06\n",
      "epoch: 21 step: 20, loss is 2.0756964659085497e-05\n",
      "epoch: 21 step: 40, loss is 1.3783337635686621e-05\n",
      "epoch: 21 step: 60, loss is 2.943623621831648e-05\n",
      "epoch: 21 step: 80, loss is 4.224841177347116e-05\n",
      "epoch: 21 step: 100, loss is 4.148282096139155e-05\n",
      "epoch: 21 step: 120, loss is 2.497360219422262e-05\n",
      "epoch: 21 step: 140, loss is 1.8484253814676777e-05\n",
      "epoch: 21 step: 160, loss is 0.001177169382572174\n",
      "epoch: 21 step: 180, loss is 0.3466978073120117\n",
      "epoch: 21 step: 200, loss is 0.1406843066215515\n",
      "epoch: 22 step: 8, loss is 0.01404976099729538\n",
      "epoch: 22 step: 28, loss is 0.057330381125211716\n",
      "epoch: 22 step: 48, loss is 0.660829484462738\n",
      "epoch: 22 step: 68, loss is 0.3668507933616638\n",
      "epoch: 22 step: 88, loss is 0.01725691929459572\n",
      "epoch: 22 step: 108, loss is 0.01401029247790575\n",
      "epoch: 22 step: 128, loss is 0.7827613353729248\n",
      "epoch: 22 step: 148, loss is 0.015781275928020477\n",
      "epoch: 22 step: 168, loss is 0.2383870631456375\n",
      "epoch: 22 step: 188, loss is 0.05163683742284775\n",
      "epoch: 22 step: 208, loss is 0.0008375330362468958\n",
      "epoch: 23 step: 16, loss is 0.09466060996055603\n",
      "epoch: 23 step: 36, loss is 0.0063456022180616856\n",
      "epoch: 23 step: 56, loss is 0.004411319270730019\n",
      "epoch: 23 step: 76, loss is 0.07607469707727432\n",
      "epoch: 23 step: 96, loss is 0.21263355016708374\n",
      "epoch: 23 step: 116, loss is 0.0003305646241642535\n",
      "epoch: 23 step: 136, loss is 0.006912108976393938\n",
      "epoch: 23 step: 156, loss is 0.00020197380217723548\n",
      "epoch: 23 step: 176, loss is 0.0002561008441261947\n",
      "epoch: 23 step: 196, loss is 0.0007359032751992345\n",
      "epoch: 24 step: 4, loss is 0.007271334994584322\n",
      "epoch: 24 step: 24, loss is 0.001612940221093595\n",
      "epoch: 24 step: 44, loss is 0.06248701736330986\n",
      "epoch: 24 step: 64, loss is 0.00044178750249557197\n",
      "epoch: 24 step: 84, loss is 0.0006800119299441576\n",
      "epoch: 24 step: 104, loss is 0.0005507071036845446\n",
      "epoch: 24 step: 124, loss is 0.0015990682877600193\n",
      "epoch: 24 step: 144, loss is 7.149214798118919e-05\n",
      "epoch: 24 step: 164, loss is 0.00284610060043633\n",
      "epoch: 24 step: 184, loss is 0.00012203388178022578\n",
      "epoch: 24 step: 204, loss is 0.00023070850875228643\n",
      "epoch: 25 step: 12, loss is 0.0002850709715858102\n",
      "epoch: 25 step: 32, loss is 0.009588287211954594\n",
      "epoch: 25 step: 52, loss is 0.0003380808630026877\n",
      "epoch: 25 step: 72, loss is 3.209566057194024e-05\n",
      "epoch: 25 step: 92, loss is 0.0009849697817116976\n",
      "epoch: 25 step: 112, loss is 0.0043487586081027985\n",
      "epoch: 25 step: 132, loss is 8.019054075703025e-05\n",
      "epoch: 25 step: 152, loss is 0.00022395038104150444\n",
      "epoch: 25 step: 172, loss is 2.1032788936281577e-05\n",
      "epoch: 25 step: 192, loss is 4.7368106606882066e-05\n",
      "epoch: 25 step: 212, loss is 3.343512798892334e-05\n",
      "epoch: 26 step: 20, loss is 9.512777614872903e-05\n",
      "epoch: 26 step: 40, loss is 0.00012035475810989738\n",
      "epoch: 26 step: 60, loss is 4.3055326386820525e-05\n",
      "epoch: 26 step: 80, loss is 2.3595584934810176e-05\n",
      "epoch: 26 step: 100, loss is 0.00023492694890592247\n",
      "epoch: 26 step: 120, loss is 2.694012800930068e-05\n",
      "epoch: 26 step: 140, loss is 0.00011031615576939657\n",
      "epoch: 26 step: 160, loss is 6.821048737037927e-05\n",
      "epoch: 26 step: 180, loss is 3.9187540096463636e-05\n",
      "epoch: 26 step: 200, loss is 0.00010575926717137918\n",
      "epoch: 27 step: 8, loss is 5.1970171625725925e-05\n",
      "epoch: 27 step: 28, loss is 0.0003439333231654018\n",
      "epoch: 27 step: 48, loss is 1.507235265307827e-05\n",
      "epoch: 27 step: 68, loss is 0.00027637530001811683\n",
      "epoch: 27 step: 88, loss is 4.112453825655393e-05\n",
      "epoch: 27 step: 108, loss is 3.671123704407364e-05\n",
      "epoch: 27 step: 128, loss is 0.00011820810323115438\n",
      "epoch: 27 step: 148, loss is 2.258217500639148e-05\n",
      "epoch: 27 step: 168, loss is 1.2263568351045251e-05\n",
      "epoch: 27 step: 188, loss is 3.1186729756882414e-05\n",
      "epoch: 27 step: 208, loss is 6.182389915920794e-05\n",
      "epoch: 28 step: 16, loss is 6.917741120560095e-05\n",
      "epoch: 28 step: 36, loss is 0.00013143167598173022\n",
      "epoch: 28 step: 56, loss is 3.751962503883988e-05\n",
      "epoch: 28 step: 76, loss is 1.6636859072605148e-05\n",
      "epoch: 28 step: 96, loss is 5.702240741811693e-05\n",
      "epoch: 28 step: 116, loss is 1.4781840945943259e-05\n",
      "epoch: 28 step: 136, loss is 0.00013629349996335804\n",
      "epoch: 28 step: 156, loss is 6.498100992757827e-05\n",
      "epoch: 28 step: 176, loss is 0.0001300541771342978\n",
      "epoch: 28 step: 196, loss is 3.38614008796867e-05\n",
      "epoch: 29 step: 4, loss is 0.0003439055581111461\n",
      "epoch: 29 step: 24, loss is 2.135295289917849e-05\n",
      "epoch: 29 step: 44, loss is 8.910858014132828e-06\n",
      "epoch: 29 step: 64, loss is 4.109555447939783e-05\n",
      "epoch: 29 step: 84, loss is 7.872933929320425e-05\n",
      "epoch: 29 step: 104, loss is 2.492901694495231e-05\n",
      "epoch: 29 step: 124, loss is 2.1129351807758212e-05\n",
      "epoch: 29 step: 144, loss is 1.358965801045997e-05\n",
      "epoch: 29 step: 164, loss is 0.00029615312814712524\n",
      "epoch: 29 step: 184, loss is 1.3917509022576269e-05\n",
      "epoch: 29 step: 204, loss is 0.00018779434321913868\n",
      "epoch: 30 step: 12, loss is 3.712390025611967e-05\n",
      "epoch: 30 step: 32, loss is 5.352314838091843e-05\n",
      "epoch: 30 step: 52, loss is 4.84286283608526e-06\n",
      "epoch: 30 step: 72, loss is 8.973720105132088e-05\n",
      "epoch: 30 step: 92, loss is 1.4647244825027883e-05\n",
      "epoch: 30 step: 112, loss is 1.6636871805530973e-05\n",
      "epoch: 30 step: 132, loss is 1.5116856957320124e-05\n",
      "epoch: 30 step: 152, loss is 1.3671677152160555e-05\n",
      "epoch: 30 step: 172, loss is 4.040368366986513e-05\n",
      "epoch: 30 step: 192, loss is 1.2554106433526613e-05\n",
      "epoch: 30 step: 212, loss is 6.130531983217224e-05\n"
     ]
    }
   ],
   "source": [
    "trainer.train(30,train_loader,callbacks=cbs)"
   ]
  },
  {
   "cell_type": "code",
   "execution_count": 18,
   "id": "1a83d24c-e603-4ec1-98f3-54f9ea7ee67f",
   "metadata": {
    "execution": {
     "iopub.execute_input": "2024-06-26T12:12:47.129722Z",
     "iopub.status.busy": "2024-06-26T12:12:47.129246Z",
     "iopub.status.idle": "2024-06-26T12:22:41.383942Z",
     "shell.execute_reply": "2024-06-26T12:22:41.382440Z",
     "shell.execute_reply.started": "2024-06-26T12:12:47.129679Z"
    },
    "tags": []
   },
   "outputs": [
    {
     "data": {
      "text/plain": [
       "{'accuracy': 0.9477124183006536}"
      ]
     },
     "execution_count": 18,
     "metadata": {},
     "output_type": "execute_result"
    }
   ],
   "source": [
    "ms.load_param_into_net(model, ms.load_checkpoint(ckpt_cb.latest_ckpt_file_name))\n",
    "trainer.eval(test_loader)"
   ]
  }
 ],
 "metadata": {
  "kernelspec": {
   "display_name": "ms22",
   "language": "python",
   "name": "python3"
  },
  "language_info": {
   "codemirror_mode": {
    "name": "ipython",
    "version": 3
   },
   "file_extension": ".py",
   "mimetype": "text/x-python",
   "name": "python",
   "nbconvert_exporter": "python",
   "pygments_lexer": "ipython3",
   "version": "3.9.0"
  },
  "widgets": {
   "application/vnd.jupyter.widget-state+json": {
    "state": {},
    "version_major": 2,
    "version_minor": 0
   }
  }
 },
 "nbformat": 4,
 "nbformat_minor": 5
}
