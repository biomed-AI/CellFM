{
 "cells": [
  {
   "cell_type": "code",
   "execution_count": null,
   "metadata": {},
   "outputs": [],
   "source": [
    "import numpy as np\n",
    "import pandas as pd\n",
    "import json\n",
    "import torch\n",
    "import torch.nn as nn\n",
    "import torch.nn.functional as F\n",
    "from torch.utils.data import DataLoader, Dataset\n",
    "import torch.optim as optim\n",
    "from tqdm import tqdm\n",
    "from sklearn.metrics import average_precision_score, f1_score\n",
    "# from torch.utils.tensorboard import SummaryWriter\n",
    "import matplotlib.pyplot as plt\n",
    "from sklearn.metrics import precision_recall_curve, auc\n",
    "import warnings\n",
    "import argparse\n",
    "warnings.filterwarnings('ignore')\n",
    "import random\n",
    "import numpy as np\n",
    "import math\n",
    "import os\n"
   ]
  },
  {
   "cell_type": "markdown",
   "metadata": {},
   "source": [
    "## Model"
   ]
  },
  {
   "cell_type": "code",
   "execution_count": null,
   "metadata": {},
   "outputs": [],
   "source": [
    "def set_seed(seed):\n",
    "    torch.manual_seed(seed)              \n",
    "    torch.cuda.manual_seed(seed)          \n",
    "    torch.cuda.manual_seed_all(seed)       \n",
    "    np.random.seed(seed)                   \n",
    "    random.seed(seed)                      \n",
    "    torch.backends.cudnn.deterministic = True  \n",
    "    torch.backends.cudnn.benchmark = False    \n",
    "\n",
    "class GOrna(Dataset):\n",
    "    def __init__(self, data, label_map, baseline_index, model_type):\n",
    "        common_gene = np.intersect1d(list(data.keys()),list(baseline_index))\n",
    "        if model_type == 'cellfm':\n",
    "            self.geneset = {gene:index+1 for index,gene in enumerate(baseline_index)}\n",
    "        else:\n",
    "            self.geneset = {gene:index for index,gene in enumerate(baseline_index)}\n",
    "        self.gene=np.array([self.geneset[gene] for gene in common_gene]).astype(np.int32)\n",
    "        self.label_size = len(label_map.keys())\n",
    "        label =[set(data[gene]) for gene in data.keys()]\n",
    "        self.label = [[label_map[item] for item in sublist] for sublist in label]\n",
    "    \n",
    "    def __len__(self):\n",
    "        return len(self.gene)\n",
    "    \n",
    "    def __getitem__(self,idx):\n",
    "        label_idx = torch.tensor(self.label[idx])\n",
    "        label = torch.zeros(self.label_size, dtype=torch.int)\n",
    "        label[label_idx] = 1\n",
    "        return torch.tensor(self.gene[idx]), label\n",
    "    \n",
    "class MLP_GO(nn.Module):\n",
    "    def __init__(self, gene_emb, label_size, hidden_dim=1028, num_emb_layers=2, dropout=0.2):\n",
    "        super(MLP_GO, self).__init__()\n",
    "        \n",
    "        self.gene_emb = gene_emb\n",
    "        feature_dim = gene_emb.shape[-1]\n",
    "        \n",
    "        # Embedding layers\n",
    "        self.input_block = nn.Sequential(\n",
    "                                         nn.LayerNorm(feature_dim, eps=1e-6)\n",
    "                                        ,nn.Linear(feature_dim, hidden_dim)\n",
    "                                        ,nn.SiLU()\n",
    "                                        )\n",
    "\n",
    "        self.hidden_block = []\n",
    "        for i in range(num_emb_layers - 1):\n",
    "            self.hidden_block.extend([\n",
    "                                      nn.LayerNorm(hidden_dim, eps=1e-6)\n",
    "                                     ,nn.Dropout(dropout)\n",
    "                                     ,nn.Linear(hidden_dim, hidden_dim)\n",
    "                                     ,nn.ReLU()\n",
    "                                     ])\n",
    "            if i == num_emb_layers - 2:\n",
    "                self.hidden_block.extend([nn.LayerNorm(hidden_dim, eps=1e-6)])\n",
    "\n",
    "        self.hidden_block = nn.Sequential(*self.hidden_block)\n",
    "\n",
    "        # Output layer\n",
    "        self.label_size = label_size\n",
    "        self.output_block = nn.Sequential(\n",
    "                                         nn.Linear(hidden_dim, 512)\n",
    "                                         ,nn.Dropout(p=0.2)\n",
    "                                         ,nn.SiLU()\n",
    "                                         ,nn.Linear(512, 256)\n",
    "                                         ,nn.Dropout(p=0.2)\n",
    "                                         ,nn.SiLU()\n",
    "                                         ,nn.Linear(256, self.label_size)\n",
    "                                         )\n",
    "        # Initialization\n",
    "        for p in self.parameters():\n",
    "            if p.dim() > 1:\n",
    "                nn.init.xavier_uniform_(p)\n",
    "\n",
    "    def forward(self, gene_id):\n",
    "        h_V = self.gene_emb[gene_id].to(torch.float32)\n",
    "        h_V = self.input_block(h_V)\n",
    "        # h_V = self.hidden_block(h_V)\n",
    "        h_V = self.output_block(h_V) \n",
    "        return h_V\n"
   ]
  },
  {
   "cell_type": "markdown",
   "metadata": {},
   "source": [
    "## Config"
   ]
  },
  {
   "cell_type": "code",
   "execution_count": null,
   "metadata": {},
   "outputs": [],
   "source": [
    "args = {}\n",
    "args['seed'] = 5\n",
    "args['task'] = 'MF'\n",
    "args['epoch'] = 5\n",
    "args['batch'] = 4\n",
    "args['interval'] = 0.01\n",
    "args['model'] = 'cellfm'\n",
    "args['top'] = 10\n",
    "\n",
    "class Config:\n",
    "    def __init__(self, args):\n",
    "        self.seed = args['seed']\n",
    "        self.task = args['task']\n",
    "        self.epoch = args['epoch']\n",
    "        self.batch = args['batch']\n",
    "        self.interval = args['interval']\n",
    "        self.model = args['model']\n",
    "        self.top = args['top']\n",
    "\n",
    "args = Config(args)"
   ]
  },
  {
   "cell_type": "markdown",
   "metadata": {},
   "source": [
    "## Loading Dataset"
   ]
  },
  {
   "cell_type": "code",
   "execution_count": null,
   "metadata": {},
   "outputs": [
    {
     "name": "stdout",
     "output_type": "stream",
     "text": [
      "7749 63 24\n"
     ]
    }
   ],
   "source": [
    "set_seed(args.seed)\n",
    "device = 'cuda:0'\n",
    "task = args.task\n",
    "interval = args.interval\n",
    "df_data_train =  pd.read_csv(f'../dataset/{task}/top{args.top}_data/processed_train.csv')\n",
    "df_data_valid =  pd.read_csv(f'../dataset/{task}/top{args.top}_data/processed_valid.csv')\n",
    "df_data_test =  pd.read_csv(f'../dataset/{task}/top{args.top}_data/processed_test.csv')\n",
    "\n",
    "with open(f'../dataset/{task}/top{args.top}_data/func_dict.json') as file:\n",
    "    label_dict = json.load(file)\n",
    "if args.model == 'uce':\n",
    "    key = 'protein'\n",
    "else:\n",
    "    key = 'gene'\n",
    "data_train = df_data_train.groupby(key)['go'].apply(list).to_dict()\n",
    "data_valid = df_data_valid.groupby(key)['go'].apply(list).to_dict()\n",
    "data_test = df_data_test.groupby(key)['go'].apply(list).to_dict()\n",
    "label_size = len(label_dict.keys())\n",
    "\n",
    "gene_emb = torch.load('../dataset/cellFM_embedding.pt').to(device) \n",
    "model_idx = pd.read_csv('../csv/gene_info.csv')['HGNC_gene']\n",
    "\n",
    "train_set = GOrna(data=data_train, label_map=label_dict, baseline_index=model_idx, model_type=args.model)\n",
    "valid_set = GOrna(data=data_valid, label_map=label_dict, baseline_index=model_idx, model_type=args.model)\n",
    "test_set = GOrna(data=data_test, label_map=label_dict, baseline_index=model_idx, model_type=args.model)\n",
    "print(len(train_set), len(valid_set), len(test_set))\n",
    "train_loader = DataLoader(train_set, batch_size=1024, shuffle=True)\n",
    "valid_loader = DataLoader(valid_set, batch_size=1024, shuffle=False)\n",
    "test_loader = DataLoader(test_set, batch_size=1024, shuffle=False)\n"
   ]
  },
  {
   "cell_type": "markdown",
   "metadata": {},
   "source": [
    "## Training"
   ]
  },
  {
   "cell_type": "code",
   "execution_count": null,
   "metadata": {},
   "outputs": [
    {
     "name": "stderr",
     "output_type": "stream",
     "text": [
      "                                                                 \r"
     ]
    },
    {
     "name": "stdout",
     "output_type": "stream",
     "text": [
      "Loss/train 1.285217523574829 0\n",
      "AUPR/train 0.32630731048345446 0\n"
     ]
    },
    {
     "name": "stderr",
     "output_type": "stream",
     "text": [
      "                                                 \r"
     ]
    },
    {
     "name": "stdout",
     "output_type": "stream",
     "text": [
      "Loss/valid 1.022995948791504 0\n",
      "AUPR/valid 0.7241943978711585 0\n",
      "Epoch [1/5], Avg Train Loss: 1.2852, Avg Valid Loss: 1.0230, AUPR: 0.7242, F max: 0.7859\n",
      "Best model saved with validation loss: 1.0230\n"
     ]
    },
    {
     "name": "stderr",
     "output_type": "stream",
     "text": [
      "                                                                 \r"
     ]
    },
    {
     "name": "stdout",
     "output_type": "stream",
     "text": [
      "Loss/train 1.1033946722745895 1\n",
      "AUPR/train 0.32999786201010706 1\n"
     ]
    },
    {
     "name": "stderr",
     "output_type": "stream",
     "text": [
      "                                                 \r"
     ]
    },
    {
     "name": "stdout",
     "output_type": "stream",
     "text": [
      "Loss/valid 0.91304612159729 1\n",
      "AUPR/valid 0.7299729673698993 1\n",
      "Epoch [2/5], Avg Train Loss: 1.1034, Avg Valid Loss: 0.9130, AUPR: 0.7300, F max: 0.8022\n",
      "Best model saved with validation loss: 0.9130\n"
     ]
    },
    {
     "name": "stderr",
     "output_type": "stream",
     "text": [
      "                                                                 \r"
     ]
    },
    {
     "name": "stdout",
     "output_type": "stream",
     "text": [
      "Loss/train 1.057364508509636 2\n",
      "AUPR/train 0.3420036537020204 2\n"
     ]
    },
    {
     "name": "stderr",
     "output_type": "stream",
     "text": [
      "                                                 \r"
     ]
    },
    {
     "name": "stdout",
     "output_type": "stream",
     "text": [
      "Loss/valid 0.9065755009651184 2\n",
      "AUPR/valid 0.7410746582493499 2\n",
      "Epoch [3/5], Avg Train Loss: 1.0574, Avg Valid Loss: 0.9066, AUPR: 0.7411, F max: 0.8063\n",
      "Best model saved with validation loss: 0.9066\n"
     ]
    },
    {
     "name": "stderr",
     "output_type": "stream",
     "text": [
      "                                                                 \r"
     ]
    },
    {
     "name": "stdout",
     "output_type": "stream",
     "text": [
      "Loss/train 1.032627671957016 3\n",
      "AUPR/train 0.3607050540944967 3\n"
     ]
    },
    {
     "name": "stderr",
     "output_type": "stream",
     "text": [
      "                                                 \r"
     ]
    },
    {
     "name": "stdout",
     "output_type": "stream",
     "text": [
      "Loss/valid 0.901448130607605 3\n",
      "AUPR/valid 0.7530088524643128 3\n",
      "Epoch [4/5], Avg Train Loss: 1.0326, Avg Valid Loss: 0.9014, AUPR: 0.7530, F max: 0.8066\n",
      "Best model saved with validation loss: 0.9014\n"
     ]
    },
    {
     "name": "stderr",
     "output_type": "stream",
     "text": [
      "                                                                 \r"
     ]
    },
    {
     "name": "stdout",
     "output_type": "stream",
     "text": [
      "Loss/train 1.0145306959748268 4\n",
      "AUPR/train 0.38040314586530555 4\n"
     ]
    },
    {
     "name": "stderr",
     "output_type": "stream",
     "text": [
      "                                                 \r"
     ]
    },
    {
     "name": "stdout",
     "output_type": "stream",
     "text": [
      "Loss/valid 0.8872042894363403 4\n",
      "AUPR/valid 0.7662916989731818 4\n",
      "Epoch [5/5], Avg Train Loss: 1.0145, Avg Valid Loss: 0.8872, AUPR: 0.7663, F max: 0.8215\n",
      "Best model saved with validation loss: 0.8872\n"
     ]
    }
   ],
   "source": [
    "\n",
    "model = MLP_GO(gene_emb, label_size).to(device)\n",
    "criterion = nn.BCEWithLogitsLoss()\n",
    "optimizer = optim.Adam(model.parameters(), lr=1e-4, weight_decay=0)\n",
    "num_epochs = args.epoch\n",
    "\n",
    "best_valid_loss = float('inf')\n",
    "\n",
    "best_model_path = f'weights/{task}' #/{args.model}_best_model_{args.seed}.pth\n",
    "if not os.path.exists(best_model_path):\n",
    "    os.makedirs(best_model_path)\n",
    "\n",
    "best_model_path = f'weights/{task}/{args.model}_best_model_{args.seed}.pth'\n",
    "\n",
    "best_epoch = 0\n",
    "for epoch in range(num_epochs):\n",
    "    model.train()\n",
    "    total_train_loss = 0\n",
    "    all_labels = []\n",
    "    all_scores = []\n",
    "    for batch_idx, (batch_ids, batch_labels) in enumerate(tqdm(train_loader, desc=f'Training Epoch {epoch+1}/{num_epochs}', leave=False)):\n",
    "        batch_ids, batch_labels = batch_ids.to(device), batch_labels.to(device)\n",
    "        optimizer.zero_grad()\n",
    "        outputs = model(batch_ids)\n",
    "        loss = criterion(outputs, batch_labels.float())\n",
    "        loss = (loss*batch_labels).sum()/batch_labels.sum() + (loss*(1-batch_labels)).sum()/(1-batch_labels).sum()\n",
    "        if math.isnan(loss.item()):\n",
    "            exit()\n",
    "        loss.backward()\n",
    "        optimizer.step()\n",
    "        total_train_loss += loss.item()\n",
    "\n",
    "        all_labels.append(batch_labels.cpu().numpy())\n",
    "        all_scores.append(torch.sigmoid(outputs).cpu().detach().numpy())\n",
    "        \n",
    "\n",
    "    avg_train_loss = total_train_loss / len(train_loader)\n",
    "    all_labels = np.concatenate(all_labels)\n",
    "    all_scores = np.concatenate(all_scores)\n",
    "    train_aupr = average_precision_score(all_labels, all_scores)\n",
    "    \n",
    "    print('Loss/train', avg_train_loss, epoch)\n",
    "    print('AUPR/train', train_aupr, epoch)\n",
    "\n",
    "    model.eval()\n",
    "    valid_loss = 0\n",
    "    y_true, y_scores = [], []\n",
    "    with torch.no_grad():\n",
    "        for batch_ids, batch_labels in tqdm(test_loader, desc='Validating', leave=False):\n",
    "            batch_ids, batch_labels = batch_ids.to(device), batch_labels.to(device)\n",
    "            outputs = model(batch_ids)\n",
    "            loss = criterion(outputs, batch_labels.float())\n",
    "            loss = (loss*batch_labels).sum()/batch_labels.sum() + (loss*(1-batch_labels)).sum()/(1-batch_labels).sum()\n",
    "            valid_loss += loss.item()\n",
    "            y_true.append(batch_labels.cpu().numpy())\n",
    "            y_scores.append(torch.sigmoid(outputs).cpu().numpy())\n",
    "\n",
    "\n",
    "    avg_valid_loss = valid_loss / len(test_loader)\n",
    "    y_true = np.concatenate(y_true).reshape(-1)\n",
    "    y_scores = np.concatenate(y_scores).reshape(-1)\n",
    "    precision, recall, _ = precision_recall_curve(y_true, y_scores)\n",
    "    aupr = auc(recall, precision)\n",
    "\n",
    "    \n",
    "    best_f1 = 0\n",
    "    thresholds = np.arange(0.0, 1.0, interval)\n",
    "    for threshold in thresholds:\n",
    "        predictions = (y_scores >= threshold).astype(int)\n",
    "        f1 = f1_score(y_true, predictions, average='macro')\n",
    "        best_f1 = max(best_f1, f1)\n",
    "\n",
    "    \n",
    "    print('Loss/valid', avg_valid_loss, epoch)\n",
    "    print('AUPR/valid', aupr, epoch)\n",
    "    \n",
    "    print(f'Epoch [{epoch+1}/{num_epochs}], Avg Train Loss: {avg_train_loss:.4f}, Avg Valid Loss: {avg_valid_loss:.4f}, AUPR: {aupr:.4f}, F max: {best_f1:.4f}')\n",
    "\n",
    "    if avg_valid_loss < best_valid_loss:\n",
    "        best_epoch = epoch\n",
    "        best_valid_loss = avg_valid_loss\n",
    "        torch.save(model.state_dict(), best_model_path)\n",
    "        print(f'Best model saved with validation loss: {best_valid_loss:.4f}')\n",
    "\n"
   ]
  },
  {
   "cell_type": "code",
   "execution_count": null,
   "metadata": {},
   "outputs": [
    {
     "name": "stderr",
     "output_type": "stream",
     "text": [
      "                                              "
     ]
    },
    {
     "name": "stderr",
     "output_type": "stream",
     "text": [
      "\r"
     ]
    },
    {
     "name": "stdout",
     "output_type": "stream",
     "text": [
      "best epoch: 4, best valid loss: 0.8872, Test Loss: 0.4436, Test AUPR: 0.7663, Test Fmax: 0.8215\n"
     ]
    }
   ],
   "source": [
    "model.load_state_dict(torch.load(best_model_path))\n",
    "model.eval()\n",
    "test_loss = 0\n",
    "y_true, y_scores = [], []\n",
    "\n",
    "with torch.no_grad():\n",
    "    for batch_ids, batch_labels in tqdm(test_loader, desc='Testing', leave=False):\n",
    "        batch_ids, batch_labels = batch_ids.to(device), batch_labels.to(device)\n",
    "        outputs = model(batch_ids)\n",
    "        loss = criterion(outputs, batch_labels.float())\n",
    "        test_loss += loss.item()\n",
    "        loss = (loss*batch_labels).sum()/batch_labels.sum() + (loss*(1-batch_labels)).sum()/(1-batch_labels).sum()\n",
    "        y_true.append(batch_labels.cpu().numpy())\n",
    "        y_scores.append(torch.sigmoid(outputs).cpu().numpy())\n",
    "\n",
    "y_true = np.concatenate(y_true).reshape(-1)\n",
    "y_scores = np.concatenate(y_scores).reshape(-1)\n",
    "\n",
    "precision, recall, _ = precision_recall_curve(y_true, y_scores)\n",
    "test_aupr = auc(recall, precision)\n",
    "\n",
    "test_fmax = 0\n",
    "thresholds = np.arange(0.0, 1.0, interval)\n",
    "for threshold in thresholds:\n",
    "    predictions = (y_scores >= threshold).astype(int)\n",
    "    f1 = f1_score(y_true, predictions, average='macro')\n",
    "    test_fmax = max(test_fmax, f1)\n",
    "print(f'best epoch: {best_epoch}, best valid loss: {best_valid_loss:.4f}, Test Loss: {test_loss/len(test_loader):.4f}, Test AUPR: {test_aupr:.4f}, Test Fmax: {test_fmax:.4f}')\n"
   ]
  }
 ],
 "metadata": {
  "kernelspec": {
   "display_name": "cellot",
   "language": "python",
   "name": "python3"
  },
  "language_info": {
   "codemirror_mode": {
    "name": "ipython",
    "version": 3
   },
   "file_extension": ".py",
   "mimetype": "text/x-python",
   "name": "python",
   "nbconvert_exporter": "python",
   "pygments_lexer": "ipython3",
   "version": "3.9.5"
  }
 },
 "nbformat": 4,
 "nbformat_minor": 2
}
